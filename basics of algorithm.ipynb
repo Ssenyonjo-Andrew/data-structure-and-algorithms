{
 "cells": [
  {
   "cell_type": "markdown",
   "metadata": {},
   "source": [
    "SSENYONJO ANDREW KWANGALA B30301"
   ]
  },
  {
   "cell_type": "markdown",
   "metadata": {},
   "source": [
    "\n",
    "# Definition of Algorithm Analysis,  \n",
    "is a fundamental aspect of computer science that involves evaluating performance of algorithms and programs. is the process of determining the computational complexity of algorithms. Efficiency of an algorithm is measured in terms of time and space.\n",
    "\n",
    "# Time Complexity and Space Complexity\n",
    "time complexity The time complexity of an algorithm quantifies the amount of time taken by an algorithm to run as a function of the length of the input. Note that the time to run is a function of the length of the input and not the actual execution time of the machine on which the algorithm is running on. \n",
    "\n",
    "# Space Complexity\n",
    "space complexity of an algorithm quantifies the amount of space taken by an algorithm to run as a function of the length of the input. it basically measures the amount of memory space required by an algorithm. The amount of memory required by the algorithm to solve given problem is called space complexity of the algorithm.\n",
    "\n",
    "# Correctness, Termination, and Effectiveness of an Algorithm\n",
    "Correctness, an algorithm is said to be correct if it produces the right output for all valid inputs.\n",
    "Termination, an algorithm must terminate after a finite number of steps.\n",
    "Effectiveness, each step of the algorithm must be basic enough to be performed exactly and in a finite amount of time.\n",
    "A correct algorithm always produces the expected output or follows the ground truth for the range of valid inputs and eventually terminates.\n",
    "\n",
    "\n",
    "# Algorithm Complexity and Measurement\n",
    "Algorithm Complexity refers to the quantitative measure of the resources required by an algorithm. similarly, algorithmic complexity is a measure of how long an algorithm would take to complete given input of size n. If an algorithm has to scale, it should compute the result within a finite and practical time bound even for large values of n. For this reason, complexity is calculated asymptotically as n approaches infinity. complexity is usually in terms of time, sometimes complexity is also analyzed in terms of space, which translates to the algorithm's memory requirements.\n",
    "\n",
    "Measurement involves analyzing the algorithm's performance in terms of time and space. Algorithmic Measurement also refers to the process of evaluating and quantifying the performance and efficiency of algorithms. This measurement is crucial for understanding how well an algorithm performs in terms of resource usage, such as time and space, as the size of the input data changes. \n"
   ]
  },
  {
   "cell_type": "markdown",
   "metadata": {},
   "source": [
    "# Categories of Algorithm Complexity"
   ]
  },
  {
   "cell_type": "markdown",
   "metadata": {},
   "source": [
    "# Constant Time - O(1)\n",
    "this is the running time which is independent of the size of input ie accessing the element in an array by its index.  An algorithm is said to run in constant time if its execution time does not depend on the size of the input data. The time taken remains the same regardless of the input size.\n"
   ]
  },
  {
   "cell_type": "code",
   "execution_count": null,
   "metadata": {},
   "outputs": [
    {
     "name": "stdout",
     "output_type": "stream",
     "text": [
      "a\n"
     ]
    }
   ],
   "source": [
    "#an example of constant time\n",
    "array=['a','b','c','e']\n",
    "new_array=array[0]\n",
    "print(new_array)"
   ]
  },
  {
   "cell_type": "markdown",
   "metadata": {},
   "source": [
    "# Logarithmic Time - O(log n)\n",
    "the running time grows logarithmically with the input size. An algorithm runs in logarithmic time if its execution time increases logarithmically as the input size increases. This often occurs in algorithms that divide the problem in half at each step."
   ]
  },
  {
   "cell_type": "markdown",
   "metadata": {},
   "source": [
    "# Linear Time - O(n)\n",
    "the running time grows proportionally with the input size forexample scanning through a list to find the maximum figure. An algorithm runs in linear time if its execution time increases linearly with the size of the input. This means that if the input size doubles, the execution time also doubles.\n"
   ]
  },
  {
   "cell_type": "markdown",
   "metadata": {},
   "source": [
    "# Quadratic Time - O(n²)\n",
    "the running time grows quadratically often found in algorithms with nested loops.  An algorithm runs in quadratic time if its execution time is proportional to the square of the input size."
   ]
  },
  {
   "cell_type": "markdown",
   "metadata": {},
   "source": [
    "# Exponential Time - O(2ⁿ)\n",
    "the running time doubles with each additional input. An algorithm runs in exponential time if its execution time doubles with each additional element in the input. This is often seen in recursive algorithms that solve problems by solving smaller subproblems."
   ]
  },
  {
   "cell_type": "markdown",
   "metadata": {},
   "source": [
    "# Factorial Time - O(n!)\n",
    "An algorithm runs in factorial time if its execution time grows factorially with the input size. This is typically seen in algorithms that generate all permutations of a set."
   ]
  },
  {
   "cell_type": "markdown",
   "metadata": {},
   "source": [
    "# Looping Structures and Complexity Analysis"
   ]
  },
  {
   "cell_type": "markdown",
   "metadata": {},
   "source": [
    "# Simple Loops (Linear and Logarithmic)\n",
    "A linear loop iterates through each element of an input of size ( n ). The execution time increases linearly with the size of the input.\n",
    "\n",
    "A logarithmic loop reduces the problem size by half with each iteration. This is common in algorithms that divide the input, such as binary search.\n"
   ]
  },
  {
   "cell_type": "code",
   "execution_count": null,
   "metadata": {},
   "outputs": [],
   "source": [
    "#linear loop\n",
    "def element(arr):\n",
    "    for i in range(len(arr)): \n",
    "        print(arr[i])"
   ]
  },
  {
   "cell_type": "code",
   "execution_count": 1,
   "metadata": {},
   "outputs": [],
   "source": [
    "# logarithmic loop\n",
    "def binary_search(arr, target):\n",
    "    low, high = 0, len(arr) - 1\n",
    "    while low <= high:  \n",
    "        mid = (low + high) // 2\n",
    "        if arr[mid] == target:\n",
    "            return mid\n",
    "        elif arr[mid] < target:\n",
    "            low = mid + 1\n",
    "        else:\n",
    "            high = mid - 1\n",
    "    return -1"
   ]
  },
  {
   "cell_type": "markdown",
   "metadata": {},
   "source": [
    "# Nested Loops (Linear Logarithmic, Quadratic, Dependent Quadratic)\n",
    "Linear Logarithmic Nested Loop (O(n log n))\n",
    " is a nested loop where the outer loop runs ( n ) times and the inner loop runs logarithmically. This is common in algorithms like merge sort.\n",
    "\n",
    " Quadratic Nested Loop (O(n²))\n",
    " is a nested loop where both the outer and inner loops iterate through ( n ) elements. The execution time grows quadratically with the input size.\n",
    "\n",
    " Dependent Quadratic Nested Loop (O(n(n-1)/2))\n",
    " is a nested loop where the inner loop's range depends on the outer loop's index. The execution time is still quadratic but can be less than ( O(n²) )."
   ]
  },
  {
   "cell_type": "markdown",
   "metadata": {},
   "source": [
    "# Big-O Notation\n",
    "# Definition and Importance.\n",
    "big-o notation describes the upper bound of an algorithm's running time and it focuses on the largest term. It provides a way to express the worst-case scenario of an algorithm's performance in terms of input size.\n",
    "\n",
    "# importances\n",
    ". Big O Notation is important because it helps analyze the efficiency of algorithms.\n",
    "It provides a way to describe how the runtime or space requirements of an algorithm grow as the input size increases.\n",
    ". Allows programmers to compare different algorithms and choose the most efficient one for a specific problem.\n",
    ". Helps in understanding the scalability of algorithms and predicting how they will perform as the input size grows.\n",
    ". Enables developers to optimize code and improve overall performance."
   ]
  },
  {
   "cell_type": "markdown",
   "metadata": {},
   "source": [
    "# How to Determine Big-O Notation\n",
    "Identify the Basic Operations: Determine the most significant operations in the algorithm ie assignments.\n",
    "Count the Operations: Analyze how the number of operations grows as the input size increases.\n",
    "Express in Big-O Notation: Use Big-O notation to express the growth rate, focusing on the highest-order term and ignoring constant factors and lower-order terms."
   ]
  },
  {
   "cell_type": "markdown",
   "metadata": {},
   "source": [
    "# Algorithm Runtime Efficiency\n",
    "▪ Best-case, Worst-case, and Average-case Analysis\n",
    "best case, represents the minimum time an algorithm takes to run for a given input size. it mainly occurs when the algorithm performs the fewest number of operations. The best-case scenario describes the minimum amount of time an algorithm will take to complete, given the most favorable input conditions. It provides a lower bound on the running time.\n",
    "\n",
    "worst case, measures the longest time an algorithm takes. forexample a search for an element which doesnt is at the end of the an array or doesnt exist in the array. The worst-case scenario describes the maximum amount of time an algorithm will take to complete, given the least favorable input conditions. It provides an upper bound on the running time.\n",
    "\n",
    "average case, represents the expected time complexity of an algorithm. it caters for all possible cases and calculates their probability of occuring. The average-case scenario describes the expected amount of time an algorithm will take to complete, averaged over all possible inputs. It provides a more realistic measure of performance than the best or worst cases.\n"
   ]
  }
 ],
 "metadata": {
  "kernelspec": {
   "display_name": "Python 3",
   "language": "python",
   "name": "python3"
  },
  "language_info": {
   "codemirror_mode": {
    "name": "ipython",
    "version": 3
   },
   "file_extension": ".py",
   "mimetype": "text/x-python",
   "name": "python",
   "nbconvert_exporter": "python",
   "pygments_lexer": "ipython3",
   "version": "3.12.2"
  }
 },
 "nbformat": 4,
 "nbformat_minor": 2
}

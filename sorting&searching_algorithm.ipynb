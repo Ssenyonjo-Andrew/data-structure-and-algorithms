{
 "cells": [
  {
   "cell_type": "markdown",
   "metadata": {},
   "source": [
    "# SORTING ALGORITHMS."
   ]
  },
  {
   "cell_type": "markdown",
   "metadata": {},
   "source": [
    "A sorting algorithm is used to arrange a given array or list of elements in an order.\n",
    "\n",
    "sorting algorithms include;\n",
    "- Bubble sort\n",
    "- Selection sort\n",
    "- Insertion sort\n",
    "- Merge sort\n",
    "- Quick sort\n"
   ]
  },
  {
   "cell_type": "markdown",
   "metadata": {},
   "source": [
    "# Bubble sort algorithm\n",
    "Bubble Sort is the simplest sorting algorithm that works by repeatedly swapping the adjacent elements if they are in the wrong order."
   ]
  },
  {
   "cell_type": "code",
   "execution_count": 7,
   "metadata": {},
   "outputs": [
    {
     "name": "stdout",
     "output_type": "stream",
     "text": [
      "Sorted array:\n",
      "11 12 22 25 34 64 90 "
     ]
    }
   ],
   "source": [
    "# Optimized Python program for implementation of Bubble Sort\n",
    "def bubbleSort(arr):\n",
    "    n = len(arr)\n",
    "    \n",
    "    # Traverse through all array elements\n",
    "    for i in range(n):\n",
    "        swapped = False\n",
    "\n",
    "        # Last i elements are already in place\n",
    "        for j in range(0, n-i-1):\n",
    "\n",
    "            # Traverse the array from 0 to n-i-1\n",
    "            # Swap if the element found is greater\n",
    "            # than the next element\n",
    "            if arr[j] > arr[j+1]:\n",
    "                arr[j], arr[j+1] = arr[j+1], arr[j]\n",
    "                swapped = True\n",
    "        if (swapped == False):\n",
    "            break\n",
    "\n",
    "# Driver code to test above\n",
    "if __name__ == \"__main__\":\n",
    "    arr = [64, 34, 25, 12, 22, 11, 90]\n",
    "\n",
    "    bubbleSort(arr)\n",
    "\n",
    "    print(\"Sorted array:\")\n",
    "    for i in range(len(arr)):\n",
    "        print(\"%d\" % arr[i], end=\" \")\n"
   ]
  },
  {
   "cell_type": "markdown",
   "metadata": {},
   "source": [
    "# Time and Space Complexity Analysis of Bubble Sort.\n",
    "\n",
    "The time complexity of Bubble Sort is O(n^2) in the worst-case scenario and the space complexity of Bubble sort is O(1). Bubble Sort only needs a constant amount of additional space during the sorting process.\n",
    "\n",
    "note>>> bubble algorithm has the following categories of complexities;\n",
    "under time complexity, best case O(n), Average O(n^2) and the worst O(n^2).\n",
    "# Best Case Time Complexity Analysis of Bubble Sort: O(N)\n",
    "The best case occurs when the array is already sorted. So the number of comparisons required is N-1 and the number of swaps required = 0. Hence the best case complexity is O(N).\n",
    "\n",
    "# Worst Case Time Complexity Analysis of Bubble Sort: O(N^2)\n",
    "The worst-case condition for bubble sort occurs when elements of the array are arranged in decreasing order.\n",
    "In the worst case, the total number of iterations or passes required to sort a given array is (N-1). where ‘N’ is the number of elements present in the array.\n",
    "\n",
    "# Average Case Time Complexity Analysis of Bubble Sort: O(N2)\n",
    "The number of comparisons is constant in Bubble Sort. So in average case, there are O(N2) comparisons. This is because irrespective of the arrangement of elements, the number of comparisons C(N) is same.\n",
    "\n",
    "# Space Complexity Analysis of Bubble Sort:\n",
    "The space complexity of Bubble Sort is O(1). This means that the amount of extra space (memory) required by the algorithm remains constant regardless of the size of the input array being sorted. Bubble Sort only needs a constant amount of additional space to store temporary variables or indices during the sorting process. Therefore, the space complexity of Bubble Sort is considered to be very efficient as it does not depend on the input size and does not require additional space proportional to the input size.\n",
    "\n"
   ]
  },
  {
   "cell_type": "markdown",
   "metadata": {},
   "source": [
    "# advantages and disadvantages of bubble sort algorithm.\n",
    "\n",
    "Advantages of Bubble Sort:\n",
    "- Bubble sort is easy to understand and implement.\n",
    "- It does not require any additional memory space.\n",
    "- It is a stable sorting algorithm, meaning that elements with the same key value maintain their relative order in the sorted output.\n",
    "\n",
    "Disadvantages of Bubble Sort:\n",
    "- Bubble sort has a time complexity of O(n2) which makes it very slow for large data sets.\n",
    "- Bubble sort has almost no or limited real world applications. It is mostly used in academics to teach different ways of sorting.\n"
   ]
  },
  {
   "cell_type": "markdown",
   "metadata": {},
   "source": [
    "# Insertion sort algorithm\n",
    "\n",
    "- Insertion sort is a simple sorting algorithm that works by iteratively inserting each element of an unsorted list into its correct position in a sorted portion of the list.\n",
    "\n",
    "# steps\n",
    "- We start with second element of the array as first element in the array is assumed to be sorted.\n",
    "- Compare second element with the first element and check if the second element is smaller then swap them.\n",
    "- Move to the third element and compare it with the first two elements and put at its correct position\n",
    "- Repeat until the entire array is sorted."
   ]
  },
  {
   "cell_type": "code",
   "execution_count": 6,
   "metadata": {},
   "outputs": [
    {
     "name": "stdout",
     "output_type": "stream",
     "text": [
      "5 6 11 12 13 \n"
     ]
    }
   ],
   "source": [
    "# Python program for implementation of Insertion Sort\n",
    "\n",
    "# Function to sort array using insertion sort\n",
    "def insertionSort(arr):\n",
    "    for i in range(1, len(arr)):\n",
    "        key = arr[i]\n",
    "        j = i - 1\n",
    "\n",
    "        # Move elements of arr[0..i-1], that are\n",
    "        # greater than key, to one position ahead\n",
    "        # of their current position\n",
    "        while j >= 0 and key < arr[j]:\n",
    "            arr[j + 1] = arr[j]\n",
    "            j -= 1\n",
    "        arr[j + 1] = key\n",
    "\n",
    "# A utility function to print array of size n\n",
    "def printArray(arr):\n",
    "    for i in range(len(arr)):\n",
    "        print(arr[i], end=\" \")\n",
    "    print()\n",
    "\n",
    "# Driver method\n",
    "if __name__ == \"__main__\":\n",
    "    arr = [12, 11, 13, 5, 6]\n",
    "    insertionSort(arr)\n",
    "    printArray(arr)\n",
    "\n",
    "    # This code is contributed by Hritik Shah.\n"
   ]
  },
  {
   "cell_type": "markdown",
   "metadata": {},
   "source": [
    "# Complexity Analysis of Insertion Sort :\n",
    "Time Complexity of Insertion Sort\n",
    "- Best case: O(n), If the list is already sorted, where n is the number of elements in the list.\n",
    "- Average case: O(n2), If the list is randomly ordered\n",
    "- Worst case: O(n2), If the list is in reverse order\n",
    "Space Complexity of Insertion Sort\n",
    "- Auxiliary Space: O(1), Insertion sort requires O(1) additional space, making it a space-efficient sorting algorithm.\n"
   ]
  },
  {
   "cell_type": "markdown",
   "metadata": {},
   "source": [
    "Advantages of Insertion Sort:\n",
    "- Simple and easy to implement.\n",
    "- Stable sorting algorithm.\n",
    "- Efficient for small lists and nearly sorted lists.\n",
    "- Space-efficient as it is an in-place algorithm.\n",
    "\n",
    "Disadvantages of Insertion Sort:\n",
    "- Inefficient for large lists.\n",
    "- Not as efficient as other sorting algorithms (e.g., merge sort, quick sort) for most cases.\n",
    "\n",
    "Applications of Insertion Sort:\n",
    "Insertion sort is commonly used in situations where;\n",
    "\n",
    "- The list is small or nearly sorted.\n",
    "- Simplicity and stability are important.\n",
    "- Used as a subroutine in Bucket Sort\n",
    "- Can be useful when array is already almost sorted\n"
   ]
  },
  {
   "cell_type": "markdown",
   "metadata": {},
   "source": [
    "# Selection sort"
   ]
  },
  {
   "cell_type": "markdown",
   "metadata": {},
   "source": [
    "Selection Sort is a comparison-based sorting algorithm. It sorts an array by repeatedly selecting the smallest (or largest) element from the unsorted portion and swapping it with the first unsorted element. This process continues until the entire array is sorted.\n",
    "\n",
    "# steps\n",
    "\n",
    "First we find the smallest element and swap it with the first element. This way we get the smallest element at its correct position.\n",
    "Then we find the smallest among remaining elements (or second smallest) and swap it with the second element.\n",
    "We keep doing this until we get all elements moved to correct position."
   ]
  },
  {
   "cell_type": "code",
   "execution_count": 5,
   "metadata": {},
   "outputs": [
    {
     "name": "stdout",
     "output_type": "stream",
     "text": [
      "Original array: 64 25 12 22 11 \n",
      "Sorted array: 11 12 22 25 64 \n"
     ]
    }
   ],
   "source": [
    "# Python program for implementation of Selection\n",
    "# Sort\n",
    "\n",
    "def selection_sort(arr):\n",
    "    n = len(arr)\n",
    "    for i in range(n - 1):\n",
    "      \n",
    "        # Assume the current position holds\n",
    "        # the minimum element\n",
    "        min_idx = i\n",
    "        \n",
    "        # Iterate through the unsorted portion\n",
    "        # to find the actual minimum\n",
    "        for j in range(i + 1, n):\n",
    "            if arr[j] < arr[min_idx]:\n",
    "              \n",
    "                # Update min_idx if a smaller element is found\n",
    "                min_idx = j\n",
    "        \n",
    "        # Move minimum element to its\n",
    "        # correct position\n",
    "        arr[i], arr[min_idx] = arr[min_idx], arr[i]\n",
    "\n",
    "def print_array(arr):\n",
    "    for val in arr:\n",
    "        print(val, end=\" \")\n",
    "    print()\n",
    "\n",
    "if __name__ == \"__main__\":\n",
    "    arr = [64, 25, 12, 22, 11]\n",
    "    \n",
    "    print(\"Original array: \", end=\"\")\n",
    "    print_array(arr)\n",
    "    \n",
    "    selection_sort(arr)\n",
    "    \n",
    "    print(\"Sorted array: \", end=\"\")\n",
    "    print_array(arr)\n"
   ]
  },
  {
   "cell_type": "markdown",
   "metadata": {},
   "source": [
    "# Complexity Analysis of Selection Sort\n",
    "Time Complexity: O(n2) ,as there are two nested loops:\n",
    "\n",
    "One loop to select an element of Array one by one = O(n)\n",
    "Another loop to compare that element with every other Array element = O(n)\n",
    "Therefore overall complexity = O(n) * O(n) = O(n*n) = O(n^2)\n",
    "\n",
    "Auxiliary Space: O(1) as the only extra memory used is for temporary variables.\n",
    "\n",
    "# Advantages of Selection Sort\n",
    "Easy to understand and implement, making it ideal for teaching basic sorting concepts.\n",
    "Requires only a constant O(1) extra memory space.\n",
    "It requires less number of swaps (or memory writes) compared to many other standard algorithms. Only cycle sort beats it in terms of memory writes. Therefore it can be simple algorithm choice when memory writes are costly.\n",
    "# Disadvantages of the Selection Sort\n",
    "- Selection sort has a time complexity of O(n^2) makes it slower compared to algorithms like Quick Sort or Merge Sort.\n",
    "- Does not maintain the relative order of equal elements which means it is not stable.\n",
    "# Applications of Selection Sort\n",
    "- Perfect for teaching fundamental sorting mechanisms and algorithm design.\n",
    "- Suitable for small lists where the overhead of more complex algorithms isn’t justified and memory writing is costly as it requires less memory writes compared to other standard sorting algorithms."
   ]
  },
  {
   "cell_type": "markdown",
   "metadata": {},
   "source": [
    "# Merge sort algorithm"
   ]
  },
  {
   "cell_type": "markdown",
   "metadata": {},
   "source": [
    "Merge sort is a sorting algorithm that follows the divide-and-conquer approach. It works by recursively dividing the input array into smaller subarrays and sorting those subarrays then merging them back together to obtain the sorted array.\n",
    "\n",
    "In simple terms, the process of merge sort is to divide the array into two halves, sort each half, and then merge the sorted halves back together. This process is repeated until the entire array is sorted.\n",
    "\n",
    "# steps\n",
    "\n",
    "- Divide: Divide the list or array recursively into two halves until it can no more be divided. \n",
    "- Conquer:  Each subarray is sorted individually using the merge sort algorithm. \n",
    "- Merge:  The sorted subarrays are merged back together in sorted order. The process continues until all elements from both subarrays have been merged. "
   ]
  },
  {
   "cell_type": "code",
   "execution_count": 4,
   "metadata": {},
   "outputs": [
    {
     "name": "stdout",
     "output_type": "stream",
     "text": [
      "Given array is\n",
      "12 11 13 5 6 7 \n",
      "\n",
      "Sorted array is\n",
      "5 6 7 11 12 13 \n"
     ]
    }
   ],
   "source": [
    "def merge(arr, left, mid, right):\n",
    "    n1 = mid - left + 1\n",
    "    n2 = right - mid\n",
    "\n",
    "    # Create temp arrays\n",
    "    L = [0] * n1\n",
    "    R = [0] * n2\n",
    "\n",
    "    # Copy data to temp arrays L[] and R[]\n",
    "    for i in range(n1):\n",
    "        L[i] = arr[left + i]\n",
    "    for j in range(n2):\n",
    "        R[j] = arr[mid + 1 + j]\n",
    "\n",
    "    i = 0  # Initial index of first subarray\n",
    "    j = 0  # Initial index of second subarray\n",
    "    k = left  # Initial index of merged subarray\n",
    "\n",
    "    # Merge the temp arrays back\n",
    "    # into arr[left..right]\n",
    "    while i < n1 and j < n2:\n",
    "        if L[i] <= R[j]:\n",
    "            arr[k] = L[i]\n",
    "            i += 1\n",
    "        else:\n",
    "            arr[k] = R[j]\n",
    "            j += 1\n",
    "        k += 1\n",
    "\n",
    "    # Copy the remaining elements of L[],\n",
    "    # if there are any\n",
    "    while i < n1:\n",
    "        arr[k] = L[i]\n",
    "        i += 1\n",
    "        k += 1\n",
    "\n",
    "    # Copy the remaining elements of R[], \n",
    "    # if there are any\n",
    "    while j < n2:\n",
    "        arr[k] = R[j]\n",
    "        j += 1\n",
    "        k += 1\n",
    "\n",
    "def merge_sort(arr, left, right):\n",
    "    if left < right:\n",
    "        mid = (left + right) // 2\n",
    "\n",
    "        merge_sort(arr, left, mid)\n",
    "        merge_sort(arr, mid + 1, right)\n",
    "        merge(arr, left, mid, right)\n",
    "\n",
    "def print_list(arr):\n",
    "    for i in arr:\n",
    "        print(i, end=\" \")\n",
    "    print()\n",
    "\n",
    "# Driver code\n",
    "if __name__ == \"__main__\":\n",
    "    arr = [12, 11, 13, 5, 6, 7]\n",
    "    print(\"Given array is\")\n",
    "    print_list(arr)\n",
    "\n",
    "    merge_sort(arr, 0, len(arr) - 1)\n",
    "\n",
    "    print(\"\\nSorted array is\")\n",
    "    print_list(arr)\n"
   ]
  },
  {
   "cell_type": "markdown",
   "metadata": {},
   "source": [
    "# Complexity Analysis of Merge Sort\n",
    "Time Complexity:\n",
    "- Best Case: O(n log n), When the array is already sorted or nearly sorted.\n",
    "- Average Case: O(n log n), When the array is randomly ordered.\n",
    "- Worst Case: O(n log n), When the array is sorted in reverse order.\n",
    "Auxiliary Space: \n",
    "- O(n) Additional space is required for the temporary array used during merging."
   ]
  },
  {
   "cell_type": "markdown",
   "metadata": {},
   "source": [
    "# Advantages of merge sort\n",
    "- Stability : Merge sort is a stable sorting algorithm, which means it maintains the relative order of equal elements in the input array.\n",
    "- Guaranteed worst-case performance: Merge sort has a worst-case time complexity of O(N logN) , which means it performs well even on large datasets.\n",
    "- Simple to implement: The divide-and-conquer approach is straightforward.\n",
    "- Naturally Parallel : We independently merge subarrays that makes it suitable for parallel processing.\n",
    "\n",
    "# Disadvantages of merge sort\n",
    "\n",
    "- Space complexity: Merge sort requires additional memory to store the merged sub-arrays during the sorting process.\n",
    "- Not in-place: Merge sort is not an in-place sorting algorithm, which means it requires additional memory to store the sorted data. This can be a disadvantage in applications where memory usage is a concern.\n",
    "- Merge Sort is Slower than QuickSort in general as QuickSort is more cache friendly because it works in-place."
   ]
  },
  {
   "cell_type": "markdown",
   "metadata": {},
   "source": [
    "# application\n",
    "- Sorting large datasets\n",
    "- It is a preferred algorithm for sorting Linked lists.\n",
    "- It can be easily parallelized as we can independently sort subarrays and then merge.\n",
    "- The merge function of merge sort to efficiently solve the problems like union and intersection of two sorted arrays."
   ]
  },
  {
   "cell_type": "markdown",
   "metadata": {},
   "source": [
    "# Quick sort\n",
    "QuickSort is a sorting algorithm based on the Divide and Conquer that picks an element as a pivot and partitions the given array around the picked pivot by placing the pivot in its correct position in the sorted array.\n",
    "\n",
    "# steps.\n",
    "- Choose a Pivot: Select an element from the array as the pivot. The choice of pivot can vary (e.g., first element, last element, random element, or median).\n",
    "- Partition the Array: Rearrange the array around the pivot. After partitioning, all elements smaller than the pivot will be on its left, and all elements greater than the pivot will be on its right. The pivot is then in its correct position, and we obtain the index of the pivot.\n",
    "- Recursively Call: Recursively apply the same process to the two partitioned sub-arrays (left and right of the pivot).\n",
    "- Base Case: The recursion stops when there is only one element left in the sub-array, as a single element is already sorted. \n"
   ]
  },
  {
   "cell_type": "code",
   "execution_count": 3,
   "metadata": {},
   "outputs": [
    {
     "name": "stdout",
     "output_type": "stream",
     "text": [
      "1 5 7 8 9 10 "
     ]
    }
   ],
   "source": [
    "# Partition function\n",
    "def partition(arr, low, high):\n",
    "    \n",
    "    # Choose the pivot\n",
    "    pivot = arr[high]\n",
    "    \n",
    "    # Index of smaller element and indicates \n",
    "    # the right position of pivot found so far\n",
    "    i = low - 1\n",
    "    \n",
    "    # Traverse arr[low..high] and move all smaller\n",
    "    # elements to the left side. Elements from low to \n",
    "    # i are smaller after every iteration\n",
    "    for j in range(low, high):\n",
    "        if arr[j] < pivot:\n",
    "            i += 1\n",
    "            swap(arr, i, j)\n",
    "    \n",
    "    # Move pivot after smaller elements and\n",
    "    # return its position\n",
    "    swap(arr, i + 1, high)\n",
    "    return i + 1\n",
    "\n",
    "# Swap function\n",
    "def swap(arr, i, j):\n",
    "    arr[i], arr[j] = arr[j], arr[i]\n",
    "\n",
    "# The QuickSort function implementation\n",
    "def quickSort(arr, low, high):\n",
    "    if low < high:\n",
    "        \n",
    "        # pi is the partition return index of pivot\n",
    "        pi = partition(arr, low, high)\n",
    "        \n",
    "        # Recursion calls for smaller elements\n",
    "        # and greater or equals elements\n",
    "        quickSort(arr, low, pi - 1)\n",
    "        quickSort(arr, pi + 1, high)\n",
    "\n",
    "# Main driver code\n",
    "if __name__ == \"__main__\":\n",
    "    arr = [10, 7, 8, 9, 1, 5]\n",
    "    n = len(arr)\n",
    "\n",
    "    quickSort(arr, 0, n - 1)\n",
    "    \n",
    "    for val in arr:\n",
    "        print(val, end=\" \") \n"
   ]
  },
  {
   "cell_type": "markdown",
   "metadata": {},
   "source": [
    "# Complexity Analysis of Quick Sort\n",
    "Time Complexity:\n",
    "\n",
    "- Best Case: (Ω(n log n)), Occurs when the pivot element divides the array into two equal halves.\n",
    "- Average Case (θ(n log n)), On average, the pivot divides the array into two parts, but not necessarily equal.\n",
    "- Case: (O(n²)), Occurs when the smallest or largest element is always chosen as the pivot (e.g., sorted arrays).\n",
    "Auxiliary Space:\n",
    "- O(n), due to recursive call stack\n",
    "\n",
    "# Advantages of Quick Sort\n",
    "- It is a divide-and-conquer algorithm that makes it easier to solve problems.\n",
    "- It is efficient on large data sets.\n",
    "- It has a low overhead, as it only requires a small amount of memory to function.\n",
    "- It is Cache Friendly as we work on the same array to sort and do not copy data to any auxiliary array.\n",
    "- Fastest general purpose algorithm for large data when stability is not required.\n",
    "\n",
    "# Disadvantages of Quick Sort\n",
    "- It has a worst-case time complexity of O(n2), which occurs when the pivot is chosen poorly.\n",
    "- It is not a good choice for small data sets.\n",
    "- It is not a stable sort, meaning that if two elements have the same key, their relative order will not be preserved in the sorted output in case of quick sort, because here we are swapping elements according to the pivot’s position (without considering their original positions).\n",
    "\n",
    "# Applications of Quick Sort\n",
    "- Efficient for sorting large datasets with O(n log n) average-case time complexity.\n",
    "- Used in partitioning problems like finding the kth smallest element or dividing arrays by pivot.\n",
    "- Integral to randomized algorithms, offering better performance than deterministic approaches.\n",
    "- Applied in cryptography for generating random permutations and unpredictable encryption keys.\n",
    "- Partitioning step can be parallelized for improved performance in multi-core or distributed systems.\n",
    "- Important in theoretical computer science for analyzing average-case complexity and developing new techniques.\n"
   ]
  },
  {
   "cell_type": "markdown",
   "metadata": {},
   "source": [
    "## Searching algorithm."
   ]
  },
  {
   "cell_type": "markdown",
   "metadata": {},
   "source": [
    "Searching algorithms are fundamental techniques used to find an element or a value within a collection of data.  These algorithms include Linear Search, Binary Search, Interpolation Search, and Jump Search."
   ]
  },
  {
   "cell_type": "markdown",
   "metadata": {},
   "source": [
    "# linear search algorithm.\n",
    "In Linear Search, we iterate over all the elements of the array and check if it the current element is equal to the target element. If we find any element to be equal to the target element, then return the index of the current element. Otherwise, if no element is equal to the target element, then return -1 as the element is not found. Linear search is also known as sequential search."
   ]
  },
  {
   "cell_type": "code",
   "execution_count": 2,
   "metadata": {},
   "outputs": [
    {
     "name": "stdout",
     "output_type": "stream",
     "text": [
      "Element is present at index 3\n"
     ]
    }
   ],
   "source": [
    "# Python3 code to linearly search x in arr[].\n",
    "\n",
    "\n",
    "def search(arr, N, x):\n",
    "\n",
    "    for i in range(0, N):\n",
    "        if (arr[i] == x):\n",
    "            return i\n",
    "    return -1\n",
    "\n",
    "\n",
    "# Driver Code\n",
    "if __name__ == \"__main__\":\n",
    "    arr = [2, 3, 4, 10, 40]\n",
    "    x = 10\n",
    "    N = len(arr)\n",
    "\n",
    "    # Function call\n",
    "    result = search(arr, N, x)\n",
    "    if(result == -1):\n",
    "        print(\"Element is not present in array\")\n",
    "    else:\n",
    "        print(\"Element is present at index\", result)\n"
   ]
  },
  {
   "cell_type": "markdown",
   "metadata": {},
   "source": [
    "# Time and Space Complexity of Linear Search Algorithm:\n",
    "Time Complexity:\n",
    "\n",
    "- Best Case: In the best case, the key might be present at the first index. So the best case complexity is O(1)\n",
    "- Worst Case: In the worst case, the key might be present at the last index i.e., opposite to the end from which the search has started in the list. So the worst-case complexity is O(N) where N is the size of the list.\n",
    "- Average Case: O(N)\n"
   ]
  },
  {
   "cell_type": "markdown",
   "metadata": {},
   "source": [
    "Auxiliary Space:\n",
    "- O(1) as except for the variable to iterate through the list, no other variable is used. \n",
    "\n",
    "Applications of Linear Search Algorithm:\n",
    "- Unsorted Lists: When we have an unsorted array or list, linear search is most commonly used to find any element in the collection.\n",
    "- Small Data Sets: Linear Search is preferred over binary search when we have small data sets with\n",
    "- Searching Linked Lists: In linked list implementations, linear search is commonly used to find elements within the list. Each node is checked sequentially until the desired element is found.\n",
    "- Simple Implementation: Linear Search is much easier to understand and implement as compared to Binary Search or Ternary Search.\n",
    "\n",
    "Advantages of Linear Search Algorithm:\n",
    "- Linear search can be used irrespective of whether the array is sorted or not. It can be used on arrays of any data type.\n",
    "- Does not require any additional memory.\n",
    "- It is a well-suited algorithm for small datasets.\n",
    "Disadvantages of Linear  Search Algorithm:\n",
    "- Linear search has a time complexity of O(N), which in turn makes it slow for large datasets.\n",
    "- Not suitable for large arrays.\n",
    "When to use Linear Search Algorithm?\n",
    "- When we are dealing with a small dataset.\n",
    "- When you are searching for a dataset stored in contiguous memory."
   ]
  },
  {
   "cell_type": "markdown",
   "metadata": {},
   "source": [
    "# Binary search\n",
    "Binary search is a search algorithm used to find the position of a target value within a sorted array. It works by repeatedly dividing the search interval in half until the target value is found or the interval is empty. The search interval is halved by comparing the target element with the middle value of the search space.\n",
    "\n",
    "# Conditions to apply Binary Search Algorithm in a Data Structure\n",
    "To apply Binary Search algorithm:\n",
    "\n",
    "- The data structure must be sorted.\n",
    "- Access to any element of the data structure should take constant time.\n",
    "\n",
    "# steps.\n",
    "- Divide the search space into two halves by finding the middle index “mid”. \n",
    "- Compare the middle element of the search space with the key. \n",
    "- If the key is found at middle element, the process is terminated.\n",
    "- If the key is not found at middle element, choose which half will be used as the next search space.\n",
    "- If the key is smaller than the middle element, then the left side is used for next search.\n",
    "- If the key is larger than the middle element, then the right side is used for next search.\n",
    "- This process is continued until the key is found or the total search space is exhausted.\n",
    "\n",
    "The Binary Search Algorithm can be implemented in the following two ways\n",
    "- Iterative Binary Search Algorithm\n",
    "- Recursive Binary Search Algorithm"
   ]
  },
  {
   "cell_type": "markdown",
   "metadata": {},
   "source": [
    "# Complexity Analysis of Binary Search Algorithm\n",
    "Time Complexity: \n",
    "- Best Case: O(1)\n",
    "- Average Case: O(log N)\n",
    "- Worst Case: O(log N)\n",
    "Auxiliary Space: \n",
    "- O(1), If the recursive call stack is considered then the auxiliary space will be O(logN).\n",
    "\n",
    "# Applications of Binary Search Algorithm\n",
    "- Binary search can be used as a building block for more complex algorithms used in machine learning, such as algorithms for training neural networks or finding the optimal hyperparameters for a model.\n",
    "- It can be used for searching in computer graphics such as algorithms for ray tracing or texture mapping.\n",
    "- It can be used for searching a database.\n",
    "\n",
    "# Advantages of Binary Search\n",
    "- Binary search is faster than linear search, especially for large arrays.\n",
    "- More efficient than other searching algorithms with a similar time complexity, such as interpolation search or exponential search.\n",
    "- Binary search is well-suited for searching large datasets that are stored in external memory, such as on a hard drive or in the cloud.\n",
    "\n",
    "# Disadvantages of Binary Search\n",
    "- The array should be sorted.\n",
    "- Binary search requires that the data structure being searched be stored in contiguous memory locations. \n",
    "- Binary search requires that the elements of the array be comparable, meaning that they must be able to be ordered.\n"
   ]
  },
  {
   "cell_type": "code",
   "execution_count": 1,
   "metadata": {},
   "outputs": [
    {
     "name": "stdout",
     "output_type": "stream",
     "text": [
      "Element is present at index 3\n"
     ]
    }
   ],
   "source": [
    "# Python3 Program for recursive binary search.\n",
    "\n",
    "\n",
    "# Returns index of x in arr if present, else -1\n",
    "def binarySearch(arr, low, high, x):\n",
    "\n",
    "    # Check base case\n",
    "    if high >= low:\n",
    "\n",
    "        mid = low + (high - low) // 2\n",
    "\n",
    "        # If element is present at the middle itself\n",
    "        if arr[mid] == x:\n",
    "            return mid\n",
    "\n",
    "        # If element is smaller than mid, then it\n",
    "        # can only be present in left subarray\n",
    "        elif arr[mid] > x:\n",
    "            return binarySearch(arr, low, mid-1, x)\n",
    "\n",
    "        # Else the element can only be present\n",
    "        # in right subarray\n",
    "        else:\n",
    "            return binarySearch(arr, mid + 1, high, x)\n",
    "\n",
    "    # Element is not present in the array\n",
    "    else:\n",
    "        return -1\n",
    "\n",
    "\n",
    "# Driver Code\n",
    "if __name__ == '__main__':\n",
    "    arr = [2, 3, 4, 10, 40]\n",
    "    x = 10\n",
    "    \n",
    "    # Function call\n",
    "    result = binarySearch(arr, 0, len(arr)-1, x)\n",
    "    \n",
    "    if result != -1:\n",
    "        print(\"Element is present at index\", result)\n",
    "    else:\n",
    "        print(\"Element is not present in array\")\n"
   ]
  }
 ],
 "metadata": {
  "kernelspec": {
   "display_name": "Python 3",
   "language": "python",
   "name": "python3"
  },
  "language_info": {
   "codemirror_mode": {
    "name": "ipython",
    "version": 3
   },
   "file_extension": ".py",
   "mimetype": "text/x-python",
   "name": "python",
   "nbconvert_exporter": "python",
   "pygments_lexer": "ipython3",
   "version": "3.12.2"
  }
 },
 "nbformat": 4,
 "nbformat_minor": 2
}

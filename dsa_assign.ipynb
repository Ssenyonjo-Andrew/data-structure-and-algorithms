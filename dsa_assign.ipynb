{
 "cells": [
  {
   "cell_type": "markdown",
   "metadata": {},
   "source": [
    "SSENYONJO ANDREW KWANGALA. B30301\n",
    "\n"
   ]
  },
  {
   "cell_type": "markdown",
   "metadata": {},
   "source": [
    "Introduction to data structures and algorithms"
   ]
  },
  {
   "cell_type": "markdown",
   "metadata": {},
   "source": [
    "briefy introduction talking about the importance of data structures and algorithms\n",
    "\n",
    "data structures are the building blocks of the computer science and they are impacting positively the various fields.\n",
    "\n",
    "the use of data structures has improved software performance. efficient use of data structures and algorithms, software can be optimized to run faster, consume less memory and handle large amounts of data. this makes software scalable.\n",
    "data structures and algorithms form the foundation of many artificial intelligence and machine learning algorithms forexample desicion tree, nueral networks that use data structures to learn and make predictions."
   ]
  },
  {
   "cell_type": "markdown",
   "metadata": {},
   "source": [
    "no2, explaining the concept of ADTs\n",
    "\n",
    "Abstract data type is a conceptual model that defines a set of operations and behaviours for a data type without specifying how the operations are implemented. example include list ADT, stack ADT and queue ADT.\n",
    "basically, the definition of ADT only mentions what operations are to be perfomed but not how these operations will be implemented.\n",
    "the main purpose of the ADTs is to provide a high level conceptual view of data structures and fuctionalities.\n",
    "\n",
    "Difference between ADTs and Data structures.\n",
    "\n",
    "ADTs are a set of data values and a set of operations, the users interact with the interface using operations that have been specified by the abstract data type.\n",
    "data structure is a simply a way of organizing and storing data so that it can be accessed and used efficiently."
   ]
  },
  {
   "cell_type": "markdown",
   "metadata": {},
   "source": [
    "examples of ADTs include queue, stack, and linked list.\n",
    "\n",
    "linked list is an example of the ADT that consists of node and a node contains data and a reference or a pointer to the next node.\n",
    "\n",
    "queue is another example that operates on the principle of first in first out.\n",
    "\n",
    "stack also works in the same but reversed way following the last in last out principle\n"
   ]
  },
  {
   "cell_type": "markdown",
   "metadata": {},
   "source": [
    "no3,\n",
    "\n",
    "arrays is the linear data structure where elements are arranged in a sequentially form"
   ]
  },
  {
   "cell_type": "code",
   "execution_count": 13,
   "metadata": {},
   "outputs": [
    {
     "name": "stdout",
     "output_type": "stream",
     "text": [
      "3\n",
      "[1, 2, 3, 4, 5, 6, 21]\n",
      "[1, 2, 2.2, 3, 4, 5, 6, 21]\n"
     ]
    }
   ],
   "source": [
    "array=[1,2,3,4,5,6,]\n",
    "print(array[2])\n",
    " #inserting data into an array\n",
    "array.append(21)\n",
    "print(array)\n",
    "array.insert(2,2.2)\n",
    "print(array)"
   ]
  },
  {
   "cell_type": "markdown",
   "metadata": {},
   "source": [
    "linked lists consists of a node and a node contains data and a reference or a pointer to the next node.\n"
   ]
  },
  {
   "cell_type": "code",
   "execution_count": 5,
   "metadata": {},
   "outputs": [
    {
     "name": "stdout",
     "output_type": "stream",
     "text": [
      "linked list\n",
      "1->2->3->none\n"
     ]
    }
   ],
   "source": [
    "linkedlist={\n",
    "    0:(1,1),\n",
    "    1:(2,2),\n",
    "    2:(3,-1)\n",
    "}\n",
    "def display_linkedlist():\n",
    "    index=0\n",
    "    while index!=-1:\n",
    "        value,next_index=linkedlist[index]\n",
    "        print(value,end=\"->\")\n",
    "        index=next_index\n",
    "    print('none')  \n",
    "    \n",
    "print('linked list')\n",
    "display_linkedlist() "
   ]
  },
  {
   "cell_type": "markdown",
   "metadata": {},
   "source": [
    "A Stack is a linear data structure that holds a linear, ordered sequence of elements. It is an abstract data type. A Stack works on the LIFO process (Last In First Out)"
   ]
  },
  {
   "cell_type": "code",
   "execution_count": 7,
   "metadata": {},
   "outputs": [
    {
     "name": "stdout",
     "output_type": "stream",
     "text": [
      "stack [1, 2, 3, 4]\n",
      "popped element 4\n",
      "top most 3\n"
     ]
    }
   ],
   "source": [
    "stack=[]\n",
    "stack.append(1)\n",
    "stack.append(2)\n",
    "stack.append(3)\n",
    "stack.append(4)\n",
    "print('stack',stack)\n",
    "\n",
    "#remove elament from the stack\n",
    "popped=stack.pop()\n",
    "print(\"popped element\",popped)\n",
    "\n",
    "\n",
    "print('top most',stack[-1])"
   ]
  },
  {
   "cell_type": "markdown",
   "metadata": {},
   "source": [
    "recursion, is a process in which a function calls itself directly or indirectly"
   ]
  },
  {
   "cell_type": "code",
   "execution_count": 8,
   "metadata": {},
   "outputs": [
    {
     "name": "stdout",
     "output_type": "stream",
     "text": [
      "15\n"
     ]
    }
   ],
   "source": [
    "# Recursive function to find the sum of \n",
    "# numbers from 0 to n\n",
    "def findSum(n):\n",
    "  \n",
    "    # Base case \n",
    "    if n == 0:\n",
    "        return 0\n",
    "    \n",
    "    # Recursive case \n",
    "    return n + findSum(n - 1)\n",
    "\n",
    "n = 5\n",
    "print(findSum(n))"
   ]
  },
  {
   "cell_type": "markdown",
   "metadata": {},
   "source": [
    "a tree is a hierarachical structure that is used to represent and organize data in the form of a relationship"
   ]
  },
  {
   "cell_type": "markdown",
   "metadata": {},
   "source": [
    "a graph, is a non linear data structure consisting of vertices and edges. is useful in fields such as social network analysis."
   ]
  },
  {
   "cell_type": "markdown",
   "metadata": {},
   "source": [
    "no4,  define and explain the following operations in data structures"
   ]
  },
  {
   "cell_type": "markdown",
   "metadata": {},
   "source": [
    "traversing, basically is a process of accessing and manipulating elements stored in the data structure.\n",
    "traversing involves iterating over the data stored in the data structures. it helps to perform a number of operations like calculations, modifying and making updates in a data structure."
   ]
  },
  {
   "cell_type": "markdown",
   "metadata": {},
   "source": [
    "searching, is the process of locating specific items within a collection of data. \n",
    "a searching algorithm is a very essential tool designed to efficiently navigate through the data structures to find the desired information.\n",
    "linear search and binary search."
   ]
  },
  {
   "cell_type": "markdown",
   "metadata": {},
   "source": [
    "insertion, is the process of adding new elements to a data structure. new items can be added to the stack, list, and a queue."
   ]
  },
  {
   "cell_type": "markdown",
   "metadata": {},
   "source": [
    "deletion, this is the process of erasing or removing element in a data structure. \n",
    "a del keyword can used to slice a list, delate key-value pairs from a dictionary and many others."
   ]
  },
  {
   "cell_type": "markdown",
   "metadata": {},
   "source": [
    "updating, this is the process of replacing existing data in a data structure with new elements.\n",
    "updating can be done by simply calling out the index of an element in the data structure."
   ]
  },
  {
   "cell_type": "markdown",
   "metadata": {},
   "source": [
    "sorting, this is the process of rearrangement of a given array or list of elements according to a comparison operater on the element. \n",
    "basically sorting is done following ascending or descending order."
   ]
  },
  {
   "cell_type": "markdown",
   "metadata": {},
   "source": [
    "merging, this is the process of combining two or more data structures into one unified data structure. \n",
    "merging can be done by concetenating, union, intersection,and using a merge sort algorithm."
   ]
  },
  {
   "cell_type": "markdown",
   "metadata": {},
   "source": [
    "no5, algorithms\n",
    "\n",
    "an algorithm is a step by step procedure that is designed to accomplish a specific task.\n",
    "\n",
    "algorithms play a crucial role in solving complex problems, automate processes and make them easier to perform.\n"
   ]
  },
  {
   "cell_type": "code",
   "execution_count": 12,
   "metadata": {},
   "outputs": [
    {
     "data": {
      "text/plain": [
       "' START\\n        SET array = [5, 10, 15, 20, 25]\\n\\n        SET total = 0\\n        FOR each number IN array DO\\n            total = total + number\\n        END FOR\\n        PRINT \"The total sum is: \" + total\\n    END'"
      ]
     },
     "execution_count": 12,
     "metadata": {},
     "output_type": "execute_result"
    }
   ],
   "source": [
    "#a pseudocode for summation of numbers in an array\n",
    "''' START\n",
    "        SET array = [5, 10, 15, 20, 25]\n",
    "\n",
    "        SET total = 0\n",
    "        FOR each number IN array DO\n",
    "            total = total + number\n",
    "        END FOR\n",
    "        PRINT \"The total sum is: \" + total\n",
    "    END'''"
   ]
  },
  {
   "cell_type": "code",
   "execution_count": 11,
   "metadata": {},
   "outputs": [
    {
     "data": {
      "text/plain": [
       "' START\\n        SET A = [[1, 2], \\n                [3, 4]]  \\n\\n        SET B = [[5, 6], \\n                [7, 8]]  \\n        SET C = [[0, 0], \\n                [0, 0]]  \\n        FOR i FROM 0 TO 1 DO  \\n            FOR j FROM 0 TO 1 DO  \\n                C[i][j] = 0  \\n                FOR k FROM 0 TO 1 DO  \\n                    C[i][j] = C[i][j] + A[i][k] * B[k][j]\\n                END FOR\\n            END FOR\\n        END FOR\\n\\n        // Output the result matrix C\\n        PRINT C\\n    END'"
      ]
     },
     "execution_count": 11,
     "metadata": {},
     "output_type": "execute_result"
    }
   ],
   "source": [
    "# a pseudocode for a matrix multiplication algorithm\n",
    "''' START\n",
    "        SET A = [[1, 2], \n",
    "                [3, 4]]  \n",
    "\n",
    "        SET B = [[5, 6], \n",
    "                [7, 8]]  \n",
    "        SET C = [[0, 0], \n",
    "                [0, 0]]  \n",
    "        FOR i FROM 0 TO 1 DO  \n",
    "            FOR j FROM 0 TO 1 DO  \n",
    "                C[i][j] = 0  \n",
    "                FOR k FROM 0 TO 1 DO  \n",
    "                    C[i][j] = C[i][j] + A[i][k] * B[k][j]\n",
    "                END FOR\n",
    "            END FOR\n",
    "        END FOR\n",
    "\n",
    "        // Output the result matrix C\n",
    "        PRINT C\n",
    "    END'''"
   ]
  },
  {
   "cell_type": "markdown",
   "metadata": {},
   "source": [
    "explaining the different types of algorithms.\n"
   ]
  },
  {
   "cell_type": "markdown",
   "metadata": {},
   "source": [
    "brute force algorithm. basically this algorithm is the straightforward approach to a problem. forexample if a pass code is of 4 digits, brute force trys all the possible combinations one by one until the right passcode is found.\n",
    "\n",
    "recursive algorithm, under this algorithm, problems are solved by breaking them into subproblems of the same type,and the problem is solved with the help of the base condition.\n",
    "\n",
    "divide and conquer algorithm, its under recursive algorithm. it solves the problem in two sections, the first section divides the problem into subproblems of the same type and the second solve the smaller problem independently and then combined result to produce the final answer to the problem.\n",
    "\n",
    "dynamic programming algorithm, its also unde recursive it works by storing the previously calculated result to avoid calculating it again and again. it divides the complex problem into smaller overllaping sub problems and store results for future use.\n",
    "\n",
    "greedy algorithm builds up a solution piece by piece it always chooses the next piece that offers the most immediate benefit. it ignores the choices that had been taken previously.\n",
    "\n",
    "backtracking algorithm. its also under recursive algorithm. it solves problems in an incremental way, it tries to build to a solution incrementally one piece at a time by removing those solutions that fail to satisfy the problem."
   ]
  },
  {
   "cell_type": "markdown",
   "metadata": {},
   "source": [
    "no6, algorithm representation.\n",
    "\n",
    "explanation of pseudocode and how it represents algorithm.\n",
    "\n",
    "a pseudocode is a simple version of a programming code. its one of the method that can be used to represent an algorithm for a program. it doesnt contain syntax like any of the programming languages and thus cannot be executed. pseudocode represent algorithms in a away that they can be read and understood by programmers whore are familiar with the different programming languages.\n",
    "\n",
    "a flowchart is a graphical representation of an algorithm. its often used as a program-planning tool to solve a problem. it makes use of different shapes or symbols that are connected to indicate the flow of the process\n"
   ]
  },
  {
   "cell_type": "markdown",
   "metadata": {},
   "source": [
    "no7,\n",
    "guidelines for drawing flowcharts\n",
    "\n",
    "flowchart are the visual representation of an algorithm or a process. flowcharts are made up of shapes and arrows that proper explain the sequence of steps involved in the algorithm or process.\n",
    "different operation and their corresponding shapes.\n",
    "\n",
    "terminal/terminator. the oval symbol indicates start, stop in a program's logic flow. terminal is the first and the last symbols in the flowchart\n",
    "\n",
    "input/output, a parallelogram denotes any function of input/output type. program instructions that take input from input devices and display output on output devices are indicated with parallelogram in a flowchart.\n",
    "\n",
    "action/process, a box represents arithmetic instructions, specific action or operation that occurs as a part of the process. all arithemetic processes such as adding, subtracting, multiplication and division are indicated by action/process symbol.\n",
    "\n",
    "decision, a diamond symbol represents a decision point. decision based operations such as yes or no questions, true or false questions are indicated by diamond shape in aflowchart.\n",
    "\n",
    "flow line, indicates the exact sequence in which instructions are executed. the arrow represents the direction of flow.\n",
    "\n"
   ]
  },
  {
   "cell_type": "markdown",
   "metadata": {},
   "source": [
    "no8, importance of learning data structures and algorithms \n",
    "\n",
    "data structures are methods to organize and store data. choosing the right data structure can make a program run faster and use less memory.\n",
    "\n",
    "learning data structures and algorithms enhances overall programming abilities. it increase the ability to write code that is cleaner and easier to maintain.\n",
    "\n",
    "a solid foundation in data structures makes it easier to pick up new programming languages and technologies, the principles cut across different languages."
   ]
  }
 ],
 "metadata": {
  "kernelspec": {
   "display_name": "Python 3",
   "language": "python",
   "name": "python3"
  },
  "language_info": {
   "codemirror_mode": {
    "name": "ipython",
    "version": 3
   },
   "file_extension": ".py",
   "mimetype": "text/x-python",
   "name": "python",
   "nbconvert_exporter": "python",
   "pygments_lexer": "ipython3",
   "version": "3.12.2"
  }
 },
 "nbformat": 4,
 "nbformat_minor": 2
}

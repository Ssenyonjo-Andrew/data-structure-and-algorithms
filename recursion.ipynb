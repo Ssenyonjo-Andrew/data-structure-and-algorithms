{
 "cells": [
  {
   "cell_type": "markdown",
   "metadata": {},
   "source": [
    "# RECURSION ASSIGNMENT."
   ]
  },
  {
   "cell_type": "markdown",
   "metadata": {},
   "source": [
    "1.\tIntroduction to Recursion \n",
    "•\tWhat is recursion? \n",
    "recursion is defined as a process which calls itself directly or indirectly and the corresponding function is called a recursive function.\n",
    "\n",
    "•\tHow does recursion differ from iteration?\n",
    "A program is called recursive when an entity calls itself. A program is called iterative when there is a loop (or repetition).\n",
    "\n",
    "\n",
    "•\tWhat are the key properties of a recursive function? \n",
    "The primary property of recursion is the ability to solve a problem by breaking it down into smaller sub-problems, each of which can be solved in the same way.\n",
    "A recursive function must have a base case or stopping criteria to avoid infinite recursion.\n",
    "Recursion involves calling the same function within itself, which leads to a call stack.\n",
    "Recursive functions may be less efficient than iterative solutions in terms of memory and performance.\n",
    "\n",
    "•\tHow does recursion utilize memory, and what is the role of the call stack?\n",
    "A call stack is a data structure used by computer programs to keep track of function calls. When a function is called, a new frame is added to the call stack. This frame contains information about the function call, such as the function arguments and the current position in the code. When the function completes its execution, the frame is removed from the call stack, and the program returns to the previous frame.\n",
    "The call stack is a critical component of memory management in programming, especially for function calls and recursion. It utilizes memory efficiently by allocating and deallocating stack frames as functions are called and completed. Understanding how the call stack works helps developers write better code and avoid common issues like stack overflow errors.\n",
    "Function Call Management: Tracks active function calls and supports nested calls by pushing and popping stack frames.\n",
    "\n",
    "importances of call stacks\n",
    "Memory Allocation: Allocates memory for function parameters, local variables, and return addresses in stack frames.\n",
    "\n",
    "Control Flow Management: Stores return addresses to ensure the program returns to the correct location after a function completes.\n",
    "\n",
    "Handling Recursion: Manages recursive calls by maintaining separate frames for each call, allowing independent execution contexts.\n",
    "\n",
    "Error Handling and Debugging: Provides stack traces for errors, helping identify the sequence of function calls that led to an issue.\n",
    " \n",
    "•\tWhy is a base condition necessary in recursion? \n",
    " Acts as a condition in Recursive Function, which tells the function when to stop. It is the most important part of every Recursion, because if we fail to include this condition it will result in infinite recursion.\n",
    "\n",
    "\n",
    "•\tWhat are the advantages and disadvantages of using recursion?\n",
    "Advantages of Recursion\n",
    "Recursion can simplify complex problems by breaking them down into smaller, more manageable pieces.\n",
    "Recursive code can be more readable and easier to understand than iterative code.\n",
    "Recursion is essential for some algorithms and data structures.\n",
    "Also with recursion, we can reduce the length of code and become more readable and understandable to the user/ programmer.\n",
    "Disadvantages of Recursion\n",
    "Recursion can be less efficient than iterative solutions in terms of memory and performance.\n",
    "Recursive functions can be more challenging to debug and understand than iterative solutions.\n",
    "Recursion can lead to stack overflow errors if the recursion depth is too high.\n",
    "\n",
    "•\tWhen should recursion be used instead of iteration?\n",
    "When the problem can be defined in terms of smaller subproblems (e.g., calculating factorial, Fibonacci numbers).\n",
    "For depth-first search (DFS) in trees and graphs, where recursion simplifies the traversal logic.\n",
    "In problems like N-Queens, Sudoku, or generating permutations, where exploring multiple paths is needed.(back tracing)\n",
    "For algorithms like Merge Sort and Quick Sort, where the problem is divided into smaller parts recursively.\n",
    "When overlapping subproblems exist, recursion with memoization can be more efficient.\n",
    "\n",
    "\n",
    "2.\tRecursive Problems with Explanations, Code, and Complexity Analysis \n",
    "2.1\tFactorial Calculation \n",
    "•\tHow is the factorial of a number defined mathematically? \n",
    "The factorial of a natural number n indicates the number of ways n items can be arranged.\n",
    "The notation of the factorial function is \"!\" or \"⌋\". If we have to find the factorial of the number n then, it is written as n!\n",
    "ie,\n",
    "1! = 1\n",
    "2! = 2 × 1 = 2\n",
    "3! = 3 × 2 × 1 = 6\n",
    "\n",
    "•\tHow can factorial be implemented using recursion? \n"
   ]
  },
  {
   "cell_type": "code",
   "execution_count": 2,
   "metadata": {},
   "outputs": [
    {
     "name": "stdout",
     "output_type": "stream",
     "text": [
      "Factorial of 6 is 720\n"
     ]
    }
   ],
   "source": [
    "#\tHow can factorial be implemented using recursion?\n",
    "# factorial of given number\n",
    "def factorial(n):\n",
    "\n",
    "    if n == 0:\n",
    "        return 1\n",
    "\n",
    "    return n * factorial(n - 1)\n",
    "\n",
    "\n",
    "num = 6\n",
    "print(f\"Factorial of {num} is {factorial(num)}\")\n",
    " "
   ]
  },
  {
   "cell_type": "code",
   "execution_count": null,
   "metadata": {},
   "outputs": [
    {
     "name": "stdout",
     "output_type": "stream",
     "text": [
      "120\n",
      "1\n"
     ]
    }
   ],
   "source": [
    "#\tHow can factorial be implemented iteratively?\n",
    "def factorial_iterative(n):\n",
    "    result = 1\n",
    "    for i in range(1, n + 1):\n",
    "        result *= i\n",
    "    return result\n",
    "\n",
    "# Test the function\n",
    "print(factorial_iterative(6))  # Output: 120\n",
    "print(factorial_iterative(0))  # Output: 1"
   ]
  },
  {
   "cell_type": "markdown",
   "metadata": {},
   "source": [
    " •\tWhat is the time complexity of both recursive and iterative implementations?\n",
    "  Recursion, The time complexity of recursion can be found by finding the value of the nth recursive call in terms of the previous calls. Thus, finding the destination case in terms of the base case.\n",
    "  Iteration, The time complexity of iteration can be found by finding the number of cycles being repeated inside the loop.\n",
    "\n",
    "\n",
    "•\tWhat are the space requirements for the recursive and iterative approaches?\n",
    "Recursive Space Complexity, ( O(n) )\n",
    "Each recursive call adds a new frame to the call stack, leading to ( n ) frames for ( n! ). This requires additional memory proportional to the depth of recursion. \n",
    "iterative space complexity, ( O(1) )\n",
    "The iterative approach uses a fixed amount of space (for variables like result and the loop index i), regardless of the input size. No additional stack frames are created.\n",
    "\n",
    "\n",
    "\n",
    "2.2\tFibonacci Series \n",
    "•\tWhat is the Fibonacci sequence?\n",
    "The Fibonacci sequence is a set of integers that starts with a zero, followed by a one, then by another one, and then by a series of steadily increasing numbers. The sequence follows the rule that each number is equal to the sum of the preceding two numbers.\n",
    "\n",
    "\n",
    " "
   ]
  },
  {
   "cell_type": "code",
   "execution_count": 5,
   "metadata": {},
   "outputs": [
    {
     "name": "stdout",
     "output_type": "stream",
     "text": [
      "6765\n"
     ]
    }
   ],
   "source": [
    "#How can Fibonacci numbers be generated using recursion?\n",
    "def fibonacci_no(n):\n",
    "    if n == 0:\n",
    "        return 0  # Base case:\n",
    "    elif n == 1:\n",
    "        return 1  # Base case: F(1) = 1\n",
    "    else:\n",
    "        return fibonacci_no(n - 1) + fibonacci_no(n - 2)  # Recursive case\n",
    "\n",
    "# Test the function\n",
    "print(fibonacci_no(20))  "
   ]
  },
  {
   "cell_type": "markdown",
   "metadata": {},
   "source": [
    " \n",
    "•\tWhat are the inefficiencies of the naive recursive approach?\n",
    "Exponential Time Complexity, (O(2^n))\n",
    "Each call to the function results in two additional calls, leading to an exponential growth in the number of calls as (n) increases.\n",
    "Redundant Calculations, The same Fibonacci numbers are computed multiple times. For instance, (F(3)) is calculated for both (F(4)) and (F(5)).\n",
    "Stack Overflow Risk, Deep recursion can lead to exceeding the maximum recursion depth, resulting in a stack overflow error for large (n).\n",
    "Inefficient Memory Usage, Space Complexity ( O(n) ) due to the call stack. Each recursive call consumes memory for its stack frame, which can be inefficient compared to iterative solutions.\n",
    "\n"
   ]
  },
  {
   "cell_type": "code",
   "execution_count": 7,
   "metadata": {},
   "outputs": [
    {
     "name": "stdout",
     "output_type": "stream",
     "text": [
      "6765\n"
     ]
    }
   ],
   "source": [
    "#•\tHow can Fibonacci numbers be computed efficiently using memoization?\n",
    "#Memoization is useful in situations where previously calculated results can be reused. \n",
    "def fibonacci_memoization(n, memo={}):\n",
    "    if n in memo:  # Check if the result is already computed\n",
    "        return memo[n]\n",
    "    if n == 0:\n",
    "        return 0  # Base case: F(0) = 0\n",
    "    elif n == 1:\n",
    "        return 1  # Base case: F(1) = 1\n",
    "    else:\n",
    "        # Compute and store the result in the memo dictionary\n",
    "        memo[n] = fibonacci_memoization(n - 1, memo) + fibonacci_memoization(n - 2, memo)\n",
    "        return memo[n]\n",
    "\n",
    "# Test the function\n",
    "print(fibonacci_memoization(20))  # Output: 55 (F(10) = 55)"
   ]
  },
  {
   "cell_type": "markdown",
   "metadata": {},
   "source": [
    "•\tWhat is the time complexity of the recursive, iterative, and memoized solutions? \n",
    "Optional (for now), but must read about \n",
    "2.3 Towers of Hanoi \n",
    "•\tWhat is the Towers of Hanoi problem?\n",
    "Tower of Hanoi is a mathematical puzzle where we have three rods (A, B, and C) and N disks. Initially, all the disks are stacked in decreasing value of diameter i.e., the smallest disk is placed on the top and they are on rod A.\n",
    "\n",
    "•\tWhat are the rules for moving disks in the Towers of Hanoi puzzle?\n",
    "Only one disk can be moved at a time.\n",
    "Each move consists of taking the upper disk from one of the stacks and placing it on top of another stack i.e. a disk can only be moved if it is the uppermost disk on a stack.\n",
    "No disk may be placed on top of a smaller disk.\n",
    "\n",
    "•\tHow can recursion be used to solve the problem?\n",
    "Recursion can be used to solve the Fibonacci number problem by defining a function that calls itself to compute the Fibonacci values based on the recurrence relation. as showed in the code previously.\n",
    "\n",
    "•\tWhat is the base condition in the recursive approach?\n",
    "Base Case is defined as the condition in Recursive Function, which tells the function when to stop. It is the most important part of every Recursion, because if we fail to include this condition it will result in infinite recursion.\n",
    "\n",
    "•\tHow does the number of moves required relate to the number of disks?\n",
    " for n disks, a total of  2n – 1 moves are required.\n",
    "\n",
    "•\tWhat is the time complexity of the recursive solution?\n",
    "The time complexity of a recursive solution is typically O(2^n), meaning it grows exponentially with the input size \"n\", \n",
    "\n",
    "2.4 Traversing a Nested List \n",
    "•\tWhat is a nested list? \n",
    "A nested list is a list that contains other lists as elements.\n",
    "\n",
    "•\tHow can recursion be used to traverse and count elements in a nested list?\n",
    " Recursion can be effectively used to traverse and count elements in a nested list by defining a function that checks each element. If the element is a list itself, the function calls itself recursively to explore that sublist.\n",
    "\n",
    "•\tHow does a recursive function handle deeply nested structures?\n",
    "A recursive function handles deeply nested structures by leveraging the call stack to manage multiple levels of function calls.\n",
    "\n",
    "•\tHow can the same problem be solved using iteration instead of recursion? \n",
    "The problem of counting elements in a nested list can also be solved using an iterative approach. This typically involves using a stack or a queue to keep track of the elements that need to be processed. By iteratively processing each element,  it avoids the problems of recursion, such as stack overflow with deeply nested structures.\n",
    "\n",
    "•\tWhat are the advantages and disadvantages of both approaches? \n",
    "Recursive Approach advantage\n",
    "Simplicity and readability, Recursive solutions are often more straightforward and easier to understand.\n",
    "disadvantage.\n",
    "tack Overflow Risk, Deeply nested structures can lead to stack overflow errors due to exceeding the maximum recursion depth. This is a significant limitation for very deep or complex nested structures.\n",
    "2.5 Checking for Palindromes \n",
    "•\tWhat is a palindrome? \n",
    "A palindrome is a word, sentence, verse, or even number that reads the same backward or forward.\n",
    "\n"
   ]
  },
  {
   "cell_type": "code",
   "execution_count": 9,
   "metadata": {},
   "outputs": [
    {
     "name": "stdout",
     "output_type": "stream",
     "text": [
      "True\n",
      "False\n"
     ]
    }
   ],
   "source": [
    "#•\tHow can a string be checked for being a palindrome using recursion? \n",
    "def is_palindrome(n):\n",
    "    # Base case: if the string is empty or has one character\n",
    "    if len(n) <= 1:\n",
    "        return True\n",
    "    # Check the first and last characters\n",
    "    if n[0] != n[-1]:\n",
    "        return False\n",
    "    # Recursive case: check the substring excluding the first and last characters\n",
    "    return is_palindrome(n[1:-1])\n",
    "\n",
    "# Test the function\n",
    "word1 = \"racecar\"\n",
    "print(is_palindrome(word1))  # Output: True\n",
    "\n",
    "word2 = \"hello\"\n",
    "print(is_palindrome(word2))  # Output: False"
   ]
  },
  {
   "cell_type": "markdown",
   "metadata": {},
   "source": [
    "\n",
    "•\tWhat is the base condition in a recursive palindrome check?\n",
    "Empty String, If the string is empty (\"\"), it is considered a palindrome. This is because an empty string reads the same forwards and backwards.\n",
    "Single Character, If the string has only one character (e.g., \"a\"), it is also considered a palindrome. A single character reads the same forwards and backwards.\n",
    "\n",
    "•\tHow can the same problem be solved iteratively? \n",
    "The problem of checking whether a string is a palindrome can also be solved using an iterative approach. In this method, you can compare characters from the beginning and the end of the string, moving towards the center. If all corresponding characters match, the string is a palindrome.\n"
   ]
  },
  {
   "cell_type": "code",
   "execution_count": 11,
   "metadata": {},
   "outputs": [
    {
     "name": "stdout",
     "output_type": "stream",
     "text": [
      "True\n",
      "False\n",
      "True\n",
      "True\n"
     ]
    }
   ],
   "source": [
    "# How can the same problem be solved iteratively?\n",
    "def is_palidrome(n):\n",
    "    left = 0\n",
    "    right = len(n) - 1\n",
    "\n",
    "    while left < right:\n",
    "        if n[left] != n[right]:\n",
    "            return False  # Characters do not match\n",
    "        left += 1\n",
    "        right -= 1\n",
    "\n",
    "    return True  # All characters matched\n",
    "\n",
    "# Test the function\n",
    "print(is_palidrome(\"level\"))  \n",
    "print(is_palidrome(\"done\"))    \n",
    "print(is_palidrome(\"\"))       \n",
    "print(is_palidrome(\"a\"))         "
   ]
  },
  {
   "cell_type": "markdown",
   "metadata": {},
   "source": [
    " \n",
    "3.\tMemory Usage in Recursion \n",
    "•\tHow is recursion handled in memory? \n",
    "When a recursive function is called, a new frame is added to the call stack for each call.\n",
    "Each time the function calls itself, a new frame is created, and this continues until a base case is reached. Once the base case is hit, the function starts returning, and the frames are popped off the stack in reverse order.\n",
    "\n",
    "•\tWhat happens when too many recursive calls are made? \n",
    "Stack Overflow, The call stack has a limited size. If the recursion goes too deep (i.e., too many frames are added), it can exceed the stack's capacity, leading to a stack overflow error.\n",
    "Memory Exhaustion, Each frame consumes memory. If the recursion depth is very high, it can lead to excessive memory usage, which may affect the performance of the program or the system.\n",
    "\n",
    "•\tWhat is the recursion limit in Python, and how can it be modified?\n",
    "Recursion Limit:\n",
    "\n",
    "Python has a default recursion limit of 1000. This means that a function can call itself up to 1000 times before hitting the limit.\n",
    "Modifying the Recursion Limit, the limit can be modified using the sys module. \n",
    "\n",
    "•\tWhat is tail recursion, and why is it not optimized in Python? \n",
    "Tail recursion occurs when a recursive function's final action is to call itself. In this case, the current function's frame can be reused for the next call, which can optimize memory usage.\n",
    "Python does not optimize tail recursion because even if a function is tail-recursive, Python will still create a new stack frame for each call.\n"
   ]
  },
  {
   "cell_type": "code",
   "execution_count": 12,
   "metadata": {},
   "outputs": [],
   "source": [
    "#recursion\n",
    "def factorial_recursive(n):\n",
    "    if n == 0:\n",
    "        return 1\n",
    "    return n * factorial_recursive(n - 1)\n",
    "#iteration\n",
    "def factorial_iterative(n):\n",
    "    result = 1\n",
    "    for i in range(1, n + 1):\n",
    "        result *= i\n",
    "    return result\n"
   ]
  },
  {
   "cell_type": "markdown",
   "metadata": {},
   "source": [
    " \n",
    "4.\tAdvantages and Disadvantages of Recursion \n",
    "•\tIn what situations is recursion more readable than loops? \n",
    "Recursion can make the code cleaner and more readable, especially for problems that have a clear recursive structure, such as tree traversals, factorial calculation, and the Fibonacci sequence.\n",
    "•\tWhat are the risks of using recursion in terms of performance and memory?\n",
    " Memory Overhead, Each recursive call adds a new layer to the call stack, potentially consuming more memory than an iterative solution. \n",
    " Performance Overhead, The overhead of function calls and stack management can make recursive solutions slower for some problems.\n",
    "\n",
    "•\tWhat factors should be considered when deciding between recursion and iteration? \n",
    " the problem nature or the problem size, the complexity of the problem, the available resources (memory and CPU)\n",
    "5.\tConclusion \n",
    "•\tWhat are the key takeaways from learning recursion? \n",
    "Recursion is a powerful technique for solving problems that have a recursive structure. \n",
    "•\tIn what real-world applications is recursion commonly used? \n",
    "puzzle solving, factorial and fibonacci calculations, game tree search and others"
   ]
  }
 ],
 "metadata": {
  "kernelspec": {
   "display_name": "Python 3",
   "language": "python",
   "name": "python3"
  },
  "language_info": {
   "codemirror_mode": {
    "name": "ipython",
    "version": 3
   },
   "file_extension": ".py",
   "mimetype": "text/x-python",
   "name": "python",
   "nbconvert_exporter": "python",
   "pygments_lexer": "ipython3",
   "version": "3.12.2"
  }
 },
 "nbformat": 4,
 "nbformat_minor": 2
}
